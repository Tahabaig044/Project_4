{
  "nbformat": 4,
  "nbformat_minor": 0,
  "metadata": {
    "colab": {
      "provenance": [],
      "authorship_tag": "ABX9TyM8AxDxmeJn0rH3yRf4MpU0",
      "include_colab_link": true
    },
    "kernelspec": {
      "name": "python3",
      "display_name": "Python 3"
    },
    "language_info": {
      "name": "python"
    }
  },
  "cells": [
    {
      "cell_type": "markdown",
      "metadata": {
        "id": "view-in-github",
        "colab_type": "text"
      },
      "source": [
        "<a href=\"https://colab.research.google.com/github/Tahabaig044/Project_4/blob/main/assignment_1_to_6/Project_1_Mad_libs_python_project.ipynb\" target=\"_parent\"><img src=\"https://colab.research.google.com/assets/colab-badge.svg\" alt=\"Open In Colab\"/></a>"
      ]
    },
    {
      "cell_type": "code",
      "execution_count": null,
      "metadata": {
        "colab": {
          "base_uri": "https://localhost:8080/"
        },
        "id": "4IrvuM7qVoHH",
        "outputId": "b1449c13-7892-41b1-bfc8-7daebe530135"
      },
      "outputs": [
        {
          "output_type": "stream",
          "name": "stdout",
          "text": [
            "☘ Welcome to the Healthy living Mad Libs!\n",
            "Enter an adjective (e.g., essintial, healthy): essintial\n",
            "Enter a body part (e.g., heart, muscles): muscles\n",
            "Enter a type of exercise (e.g., jogging, yoga): jogging\n",
            "Enter a number: 10\n",
            "Enter a type of food (e.g., fruits, vegetables): fruits and vegetables\n",
            "Enter a healthy drink:fresh juice\n",
            "Enter a verb (e.g., maintain, improve): improve\n",
            "Enter another adjective (e.g., strong, energetic):strong\n",
            "Enter a noun (e.g., routine, lifestyle): routine\n",
            "\n",
            "Here is your Healthy Living Mad Libs story 💪:\n",
            "\n",
            "\n",
            "    Maintaining a essintial lifestyle is crucial for overall health. Engaging in in regular physical activities\n",
            "    like jogging helps strengthen your muscles and improves circulation. Experts recommend at least\n",
            "    10 minutes of exercise 🏋️‍♂️ per day to stay active and fit 🙌.\n",
            "\n",
            "    A well-balanced diet is also key to good health. Consuming nutrient-rich foods, such as fruits and vegetables 🍎🥗, and staying\n",
            "    hydrated with fresh juice 🥤 can help improve your immune system and energy levels ✔.\n",
            "\n",
            "    Developing a consistent routine that includes physical activity 🚴‍♂️, proper nutrition 🥦🥝, and adequate rest 🛌\n",
            "    can lead to a strong and fulfilling life 💖.\n",
            "\n",
            "    ✅ Making small, healthy choices every day can have a lasting impact on your well-being.\n",
            "    \n"
          ]
        }
      ],
      "source": [
        "def health_mad_lib():\n",
        "    print(\"☘ Welcome to the Healthy living Mad Libs!\")\n",
        "\n",
        "    adjective = input(\"Enter an adjective (e.g., essintial, healthy): \")\n",
        "    body_part = input(\"Enter a body part (e.g., heart, muscles): \")\n",
        "    exercise = input(\"Enter a type of exercise (e.g., jogging, yoga): \")\n",
        "    number = input(\"Enter a number: \")\n",
        "    food = input(\"Enter a type of food (e.g., fruits, vegetables): \")\n",
        "    drink = input(\"Enter a healthy drink:\")\n",
        "    verb = input(\"Enter a verb (e.g., maintain, improve): \")\n",
        "    adjective2 = input(\"Enter another adjective (e.g., strong, energetic):\")\n",
        "    noun = input(\"Enter a noun (e.g., routine, lifestyle): \")\n",
        "\n",
        "    story = f\"\"\"\n",
        "    Maintaining a {adjective} lifestyle is crucial for overall health. Engaging in in regular physical activities\n",
        "    like {exercise} helps strengthen your {body_part} and improves circulation. Experts recommend at least\n",
        "    {number} minutes of exercise 🏋️‍♂️ per day to stay active and fit 🙌.\n",
        "\n",
        "    A well-balanced diet is also key to good health. Consuming nutrient-rich foods, such as {food} 🍎🥗, and staying\n",
        "    hydrated with {drink} 🥤 can help {verb} your immune system and energy levels ✔.\n",
        "\n",
        "    Developing a consistent {noun} that includes physical activity 🚴‍♂️, proper nutrition 🥦🥝, and adequate rest 🛌\n",
        "    can lead to a {adjective2} and fulfilling life 💖.\n",
        "\n",
        "    ✅ Making small, healthy choices every day can have a lasting impact on your well-being.\n",
        "    \"\"\"\n",
        "\n",
        "    print(\"\\nHere is your Healthy Living Mad Libs story 💪:\\n\")\n",
        "    print(story)\n",
        "\n",
        "health_mad_lib()\n",
        "\n",
        "\n",
        "\n",
        "\n",
        "\n",
        "\n",
        "\n",
        "\n"
      ]
    }
  ]
}