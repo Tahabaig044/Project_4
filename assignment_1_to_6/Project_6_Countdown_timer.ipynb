{
  "nbformat": 4,
  "nbformat_minor": 0,
  "metadata": {
    "colab": {
      "provenance": [],
      "authorship_tag": "ABX9TyOo6dLAcRYsFx/C0dPBP/rC",
      "include_colab_link": true
    },
    "kernelspec": {
      "name": "python3",
      "display_name": "Python 3"
    },
    "language_info": {
      "name": "python"
    }
  },
  "cells": [
    {
      "cell_type": "markdown",
      "metadata": {
        "id": "view-in-github",
        "colab_type": "text"
      },
      "source": [
        "<a href=\"https://colab.research.google.com/github/Tahabaig044/Project_4/blob/main/assignment_1_to_6/Project_6_Countdown_timer.ipynb\" target=\"_parent\"><img src=\"https://colab.research.google.com/assets/colab-badge.svg\" alt=\"Open In Colab\"/></a>"
      ]
    },
    {
      "cell_type": "code",
      "source": [
        "import time\n",
        "\n",
        "def countdown(t):\n",
        "    while t:\n",
        "        mins, secs = divmod(t, 60)\n",
        "        timer = f\"\\r{mins:02d}:{secs:02d}\"  # Overwrite the same line\n",
        "        print(timer, end=\"\", flush=True)  # Ensure immediate update\n",
        "\n",
        "        time.sleep(1)\n",
        "        t -= 1\n",
        "\n",
        "    print(\"\\rTimer completed!      \")  # print massage\n",
        "\n",
        "t = int(input(\"Enter the time in seconds: \")) #users input\n",
        "countdown(t) #calling function\n"
      ],
      "metadata": {
        "id": "yzdMusK2prmk",
        "colab": {
          "base_uri": "https://localhost:8080/"
        },
        "outputId": "b4dc7336-9e05-4441-c143-20529d24dd95"
      },
      "execution_count": null,
      "outputs": [
        {
          "output_type": "stream",
          "name": "stdout",
          "text": [
            "Enter the time in seconds: 8\n",
            "Timer completed!      \n"
          ]
        }
      ]
    }
  ]
}