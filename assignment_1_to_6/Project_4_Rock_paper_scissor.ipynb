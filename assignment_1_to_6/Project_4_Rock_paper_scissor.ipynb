{
  "nbformat": 4,
  "nbformat_minor": 0,
  "metadata": {
    "colab": {
      "provenance": [],
      "authorship_tag": "ABX9TyMnPPeW1KRm8GEjMp0ZsG3L",
      "include_colab_link": true
    },
    "kernelspec": {
      "name": "python3",
      "display_name": "Python 3"
    },
    "language_info": {
      "name": "python"
    }
  },
  "cells": [
    {
      "cell_type": "markdown",
      "metadata": {
        "id": "view-in-github",
        "colab_type": "text"
      },
      "source": [
        "<a href=\"https://colab.research.google.com/github/Tahabaig044/Project_4/blob/main/assignment_1_to_6/Project_4_Rock_paper_scissor.ipynb\" target=\"_parent\"><img src=\"https://colab.research.google.com/assets/colab-badge.svg\" alt=\"Open In Colab\"/></a>"
      ]
    },
    {
      "cell_type": "code",
      "execution_count": null,
      "metadata": {
        "colab": {
          "base_uri": "https://localhost:8080/"
        },
        "id": "uFoXiUQZ6GMC",
        "outputId": "bcd1b14a-0f44-4985-9780-e90d479a8b7c"
      },
      "outputs": [
        {
          "name": "stdout",
          "output_type": "stream",
          "text": [
            "Welcome to Rock, Paper, Scissors!\n",
            "Enter rock, paper, or scissors: scissors\n",
            "Computer chose rock\n",
            "You chose scissors\n",
            "Computer wins\n",
            "Do you want to play again? (yes/no): yes\n",
            "Enter rock, paper, or scissors: rock\n",
            "Computer chose scissors\n",
            "You chose rock\n",
            "User wins\n",
            "Do you want to play again? (yes/no): o\n"
          ]
        }
      ],
      "source": [
        "import random\n",
        "\n",
        "def get_computer_choice():\n",
        "   return random.choice([\"rock\", \"paper\", \"scissors\"])\n",
        "\n",
        "def get_user_choice():\n",
        "    choice = input(\"Enter rock, paper, or scissors: \").lower()\n",
        "    while choice not in [\"rock\", \"paper\", \"scissors\"]:\n",
        "        print(\"Invalid choice. Please try again.\")\n",
        "        choice = input(\"Enter rock, paper, or scissors: \").lower()\n",
        "    return choice\n",
        "\n",
        "def determine_winner(computer_choice, user_choice):\n",
        "    if computer_choice == user_choice:\n",
        "        return \"It's a tie\"\n",
        "    elif (computer_choice == \"rock\" and user_choice == \"scissors\") or \\\n",
        "        (computer_choice == \"paper\" and user_choice == \"rock\") or \\\n",
        "        (computer_choice == \"scissors\" and user_choice == \"paper\"):\n",
        "        return \"Computer wins\"\n",
        "    else:\n",
        "        return \"User wins\"\n",
        "\n",
        "def play_game():\n",
        "    print(\"Welcome to Rock, Paper, Scissors!\")\n",
        "    while True:\n",
        "        computer_choice = get_computer_choice()\n",
        "        user_choice = get_user_choice()\n",
        "        print(f\"Computer chose {computer_choice}\")\n",
        "        print(f\"You chose {user_choice}\")\n",
        "        result = determine_winner(computer_choice, user_choice)\n",
        "        print(result)\n",
        "\n",
        "        play_again = input(\"Do you want to play again? (yes/no): \").lower()\n",
        "        if play_again != \"yes\":\n",
        "            break\n",
        "\n",
        "if __name__ == \"__main__\":\n",
        "    play_game()\n",
        "\n",
        "\n"
      ]
    }
  ]
}