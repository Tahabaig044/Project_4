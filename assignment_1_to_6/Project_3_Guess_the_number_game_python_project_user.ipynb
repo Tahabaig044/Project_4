{
  "nbformat": 4,
  "nbformat_minor": 0,
  "metadata": {
    "colab": {
      "provenance": [],
      "authorship_tag": "ABX9TyM5DM/Lztms8il0gb5Iw9U2",
      "include_colab_link": true
    },
    "kernelspec": {
      "name": "python3",
      "display_name": "Python 3"
    },
    "language_info": {
      "name": "python"
    }
  },
  "cells": [
    {
      "cell_type": "markdown",
      "metadata": {
        "id": "view-in-github",
        "colab_type": "text"
      },
      "source": [
        "<a href=\"https://colab.research.google.com/github/Tahabaig044/Project_4/blob/main/assignment_1_to_6/Project_3_Guess_the_number_game_python_project_user.ipynb\" target=\"_parent\"><img src=\"https://colab.research.google.com/assets/colab-badge.svg\" alt=\"Open In Colab\"/></a>"
      ]
    },
    {
      "cell_type": "code",
      "execution_count": null,
      "metadata": {
        "colab": {
          "base_uri": "https://localhost:8080/"
        },
        "id": "VkQzRpTBqsgY",
        "outputId": "20b656b3-40db-41e9-c939-6e9fae645cb5"
      },
      "outputs": [
        {
          "output_type": "stream",
          "name": "stdout",
          "text": [
            "Guess a number between 1 and 10: 2\n",
            "Sorry, guess again. Too low.\n",
            "Guess a number between 1 and 10: 7\n",
            "Sorry, guess again. Too high.\n",
            "Guess a number between 1 and 10: 4\n",
            "Sorry, guess again. Too low.\n",
            "Guess a number between 1 and 10: 6\n",
            "Yay, congrats. You have guessed the number 6 correctly!!\n"
          ]
        }
      ],
      "source": [
        "#number guessing game\n",
        "import random\n",
        "\n",
        "def guess(x):\n",
        "    random_number = random.randint(1, x)\n",
        "    guess = 0\n",
        "    while guess != random_number:\n",
        "        guess = int(input(f'Guess a number between 1 and {x}: '))\n",
        "        if guess < random_number:\n",
        "            print('Sorry, guess again. Too low.')\n",
        "        elif guess > random_number:\n",
        "            print('Sorry, guess again. Too high.')\n",
        "\n",
        "    print(f'Yay, congrats. You have guessed the number {random_number} correctly!!')  # Print the actual random_number\n",
        "\n",
        "guess(10)"
      ]
    }
  ]
}