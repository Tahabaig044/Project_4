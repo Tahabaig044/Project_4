{
  "nbformat": 4,
  "nbformat_minor": 0,
  "metadata": {
    "colab": {
      "provenance": [],
      "authorship_tag": "ABX9TyPjXhK94ZpG18C5kAFujxLL",
      "include_colab_link": true
    },
    "kernelspec": {
      "name": "python3",
      "display_name": "Python 3"
    },
    "language_info": {
      "name": "python"
    }
  },
  "cells": [
    {
      "cell_type": "markdown",
      "metadata": {
        "id": "view-in-github",
        "colab_type": "text"
      },
      "source": [
        "<a href=\"https://colab.research.google.com/github/Tahabaig044/Project_4/blob/main/assignment_1_to_6/Project_2_guess_the_number_game_python_project_computer.ipynb\" target=\"_parent\"><img src=\"https://colab.research.google.com/assets/colab-badge.svg\" alt=\"Open In Colab\"/></a>"
      ]
    },
    {
      "cell_type": "code",
      "source": [
        "import random\n",
        "\n",
        "def computer_guess(x):\n",
        "    low = 1\n",
        "    high = x\n",
        "    feedback = ''\n",
        "    while feedback != 'c':\n",
        "        if low != high:\n",
        "            guess = random.randint(low, high)\n",
        "        else:\n",
        "            guess = low\n",
        "        feedback = input(f'Is {guess} too high (H), too low (L), or correct (C)? ').lower() # Get feedback and convert to lowercase\n",
        "        if feedback == 'h':\n",
        "            high = guess - 1\n",
        "        elif feedback == 'l':\n",
        "            low = guess + 1\n",
        "\n",
        "    print(f'Yay! The computer guessed your number, {guess}, correctly!')\n",
        "\n",
        "\n",
        "computer_guess(10) #call function"
      ],
      "metadata": {
        "id": "edUuFDv6puUY",
        "colab": {
          "base_uri": "https://localhost:8080/"
        },
        "outputId": "1728dbc2-e648-4a64-feb1-2f059bd13fb6"
      },
      "execution_count": null,
      "outputs": [
        {
          "output_type": "stream",
          "name": "stdout",
          "text": [
            "Is 2 too high (H), too low (L), or correct (C)? L\n",
            "Is 3 too high (H), too low (L), or correct (C)? L\n",
            "Is 6 too high (H), too low (L), or correct (C)? H\n",
            "Is 4 too high (H), too low (L), or correct (C)? C\n",
            "Yay! The computer guessed your number, 4, correctly!\n"
          ]
        }
      ]
    }
  ]
}