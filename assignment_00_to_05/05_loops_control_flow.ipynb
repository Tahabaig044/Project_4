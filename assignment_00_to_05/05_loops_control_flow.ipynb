{
  "nbformat": 4,
  "nbformat_minor": 0,
  "metadata": {
    "colab": {
      "provenance": [],
      "authorship_tag": "ABX9TyOHzZLU+olD2+Sy/UjWVRBV",
      "include_colab_link": true
    },
    "kernelspec": {
      "name": "python3",
      "display_name": "Python 3"
    },
    "language_info": {
      "name": "python"
    }
  },
  "cells": [
    {
      "cell_type": "markdown",
      "metadata": {
        "id": "view-in-github",
        "colab_type": "text"
      },
      "source": [
        "<a href=\"https://colab.research.google.com/github/Tahabaig044/Project_4/blob/main/assignment_00_to_05/05_loops_control_flow.ipynb\" target=\"_parent\"><img src=\"https://colab.research.google.com/assets/colab-badge.svg\" alt=\"Open In Colab\"/></a>"
      ]
    },
    {
      "cell_type": "code",
      "execution_count": null,
      "metadata": {
        "colab": {
          "base_uri": "https://localhost:8080/"
        },
        "id": "fX3S4FUXcWug",
        "outputId": "246ff6bf-a380-4269-8a28-70d6f021518e"
      },
      "outputs": [
        {
          "output_type": "stream",
          "name": "stdout",
          "text": [
            "I am thinking of a number between 1 and 99...\n",
            "Enter a guess: 9\n",
            "Congrats! The number was: 9\n"
          ]
        }
      ],
      "source": [
        "# #00_guess_my_number\n",
        "\n",
        "import random\n",
        "\n",
        "def guess_number():\n",
        "    secret_number = random.randint(1, 99)\n",
        "\n",
        "    print(\"I am thinking of a number between 1 and 99...\")\n",
        "\n",
        "    guess = int(input(\"Enter a guess: \"))\n",
        "    while guess != secret_number:\n",
        "        if guess < secret_number:\n",
        "            print(\"Your guess is too low\")\n",
        "        else:\n",
        "            print(\"Your guess is too high\")\n",
        "\n",
        "        print()\n",
        "        guess = int(input(\"Enter a new guess: \"))\n",
        "\n",
        "    print(\"Congrats! The number was: \" + str(secret_number))\n",
        "\n",
        "if __name__ == '__main__':\n",
        "  guess_number()"
      ]
    },
    {
      "cell_type": "code",
      "source": [
        "#01_fibonacci\n",
        "\n",
        "MAX_TERM_VALUE = 10000\n",
        "def fibonacci():\n",
        "  curr_term = 0\n",
        "  next_term = 1\n",
        "  while curr_term <= MAX_TERM_VALUE:\n",
        "        print(curr_term)\n",
        "        term_after_next = curr_term + next_term\n",
        "        curr_term = next_term\n",
        "        next_term = term_after_next\n",
        "\n",
        "if __name__ == '__main__':\n",
        "  fibonacci()"
      ],
      "metadata": {
        "id": "O62nu7n7gL9F",
        "colab": {
          "base_uri": "https://localhost:8080/"
        },
        "outputId": "8d9c58a4-90ed-4d27-a1e5-93bf69a0a1e7"
      },
      "execution_count": null,
      "outputs": [
        {
          "output_type": "stream",
          "name": "stdout",
          "text": [
            "0\n",
            "1\n",
            "1\n",
            "2\n",
            "3\n",
            "5\n",
            "8\n",
            "13\n",
            "21\n",
            "34\n",
            "55\n",
            "89\n",
            "144\n",
            "233\n",
            "377\n",
            "610\n",
            "987\n",
            "1597\n",
            "2584\n",
            "4181\n",
            "6765\n"
          ]
        }
      ]
    },
    {
      "cell_type": "code",
      "source": [
        "#02_print_events\n",
        "\n",
        "def even_numbers():\n",
        "  for i in range(20):\n",
        "    print(i * 2)\n",
        "\n",
        "if __name__ == '__main__':\n",
        "  even_numbers()"
      ],
      "metadata": {
        "colab": {
          "base_uri": "https://localhost:8080/"
        },
        "id": "E_PUIaO-KU_b",
        "outputId": "828f6174-62bd-4cf1-aba7-779fdaa9f01a"
      },
      "execution_count": null,
      "outputs": [
        {
          "output_type": "stream",
          "name": "stdout",
          "text": [
            "0\n",
            "2\n",
            "4\n",
            "6\n",
            "8\n",
            "10\n",
            "12\n",
            "14\n",
            "16\n",
            "18\n",
            "20\n",
            "22\n",
            "24\n",
            "26\n",
            "28\n",
            "30\n",
            "32\n",
            "34\n",
            "36\n",
            "38\n"
          ]
        }
      ]
    },
    {
      "cell_type": "code",
      "source": [
        "#03_wholesome_machine\n",
        "\n",
        "AFFIRMATION = \"I am capable of doing anything I put my mind to.\"\n",
        "\n",
        "def wholesome_machine():\n",
        "    print(\"Please type the following affirmation exactly as shown below:\")\n",
        "    print(f'\"{AFFIRMATION}\"')\n",
        "    print('Type \"exit\" to quit at any time.')\n",
        "\n",
        "    try:\n",
        "        while True:\n",
        "            user_feedback = input(\"\\nYour input: \").strip()\n",
        "\n",
        "            if user_feedback.lower() == \"exit\":\n",
        "                print(\"Goodbye! Stay positive. 😊\")\n",
        "                break\n",
        "\n",
        "            if user_feedback == AFFIRMATION:\n",
        "                print(\"That's right! :) You're awesome!\")\n",
        "                break\n",
        "            else:\n",
        "                print(\"That was not the affirmation. Try again!\")\n",
        "\n",
        "    except KeyboardInterrupt:\n",
        "        print(\"\\nProgram interrupted. Stay motivated! 😊\")\n",
        "\n",
        "if __name__ == \"__main__\":\n",
        "    wholesome_machine()\n"
      ],
      "metadata": {
        "colab": {
          "base_uri": "https://localhost:8080/"
        },
        "id": "uXSOLioDKvDA",
        "outputId": "4afbc144-ffc7-44fc-f375-8614395dab9d"
      },
      "execution_count": null,
      "outputs": [
        {
          "output_type": "stream",
          "name": "stdout",
          "text": [
            "Please type the following affirmation exactly as shown below:\n",
            "\"I am capable of doing anything I put my mind to.\"\n",
            "Type \"exit\" to quit at any time.\n",
            "\n",
            "Your input: I am capable of doing anything I put my mind to\n",
            "That was not the affirmation. Try again!\n",
            "\n",
            "Your input: \"I am capable of doing anything I put my mind to.\"\n",
            "That was not the affirmation. Try again!\n",
            "\n",
            "Your input: I am capable of doing anything I put my mind to.\n",
            "That's right! :) You're awesome!\n"
          ]
        }
      ]
    },
    {
      "cell_type": "code",
      "source": [
        "#04_liftoff\n",
        "\n",
        "def main():\n",
        "    for i in range(10, 0, -1):\n",
        "        print(i)\n",
        "    print(\"Liftoff!\")\n",
        "\n",
        "if __name__ == '__main__':\n",
        "  main()\n"
      ],
      "metadata": {
        "colab": {
          "base_uri": "https://localhost:8080/"
        },
        "id": "n50vfyZudS6h",
        "outputId": "393d28b4-8311-4a1a-bbe8-4c46182303d0"
      },
      "execution_count": null,
      "outputs": [
        {
          "output_type": "stream",
          "name": "stdout",
          "text": [
            "10\n",
            "9\n",
            "8\n",
            "7\n",
            "6\n",
            "5\n",
            "4\n",
            "3\n",
            "2\n",
            "1\n",
            "Liftoff!\n"
          ]
        }
      ]
    },
    {
      "cell_type": "code",
      "source": [
        "#05_double_it\n",
        "\n",
        "def main():\n",
        "  user_value = int(input(\"Enter a number: \"))\n",
        "  while user_value < 100:\n",
        "    user_value = user_value * 2\n",
        "    print(user_value)\n",
        "\n",
        "if __name__ == '__main__':\n",
        "  main()"
      ],
      "metadata": {
        "colab": {
          "base_uri": "https://localhost:8080/"
        },
        "id": "uS1vJq2Od--2",
        "outputId": "09cd7e2f-4532-4211-beb9-c714e4100a46"
      },
      "execution_count": null,
      "outputs": [
        {
          "output_type": "stream",
          "name": "stdout",
          "text": [
            "Enter a number: 2\n",
            "4\n",
            "8\n",
            "16\n",
            "32\n",
            "64\n",
            "128\n"
          ]
        }
      ]
    }
  ]
}