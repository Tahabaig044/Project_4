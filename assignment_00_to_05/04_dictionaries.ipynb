{
  "nbformat": 4,
  "nbformat_minor": 0,
  "metadata": {
    "colab": {
      "provenance": [],
      "authorship_tag": "ABX9TyOtdjfk/hVZTqTwU3D1Ym//",
      "include_colab_link": true
    },
    "kernelspec": {
      "name": "python3",
      "display_name": "Python 3"
    },
    "language_info": {
      "name": "python"
    }
  },
  "cells": [
    {
      "cell_type": "markdown",
      "metadata": {
        "id": "view-in-github",
        "colab_type": "text"
      },
      "source": [
        "<a href=\"https://colab.research.google.com/github/Tahabaig044/Project_4/blob/main/assignment_00_to_05/04_dictionaries.ipynb\" target=\"_parent\"><img src=\"https://colab.research.google.com/assets/colab-badge.svg\" alt=\"Open In Colab\"/></a>"
      ]
    },
    {
      "cell_type": "code",
      "execution_count": null,
      "metadata": {
        "colab": {
          "base_uri": "https://localhost:8080/"
        },
        "id": "4jqqxsRxUEZW",
        "outputId": "a3fec8ab-7696-4b86-aa98-d46958c8b8f8"
      },
      "outputs": [
        {
          "output_type": "stream",
          "name": "stdout",
          "text": [
            "Enter a number: 1\n",
            "Enter a number: 2\n",
            "Enter a number: 3\n",
            "Enter a number: 4\n",
            "Enter a number: 4\n",
            "Enter a number: 3\n",
            "Enter a number: \n",
            "1 appears 1 times.\n",
            "2 appears 1 times.\n",
            "3 appears 2 times.\n",
            "4 appears 2 times.\n"
          ]
        }
      ],
      "source": [
        "# #00_count_nums\n",
        "\n",
        "def get_user_numbers():\n",
        "    user_numbers = []\n",
        "    while True:\n",
        "        user_input = input(\"Enter a number: \")\n",
        "        if user_input == \"\":\n",
        "            break\n",
        "\n",
        "        num = int(user_input)\n",
        "        user_numbers.append(num)\n",
        "\n",
        "    return user_numbers\n",
        "\n",
        "def count_nums(num_lst):\n",
        "    num_dict = {}\n",
        "    for num in num_lst:\n",
        "        if num not in num_dict:\n",
        "            num_dict[num] = 1\n",
        "        else:\n",
        "            num_dict[num] += 1\n",
        "\n",
        "    return num_dict\n",
        "\n",
        "\n",
        "def print_counts(num_dict):\n",
        "    for num in num_dict:\n",
        "        print(str(num) + \" appears \" + str(num_dict[num]) + \" times.\")\n",
        "\n",
        "\n",
        "def main():\n",
        "\n",
        "    user_numbers = get_user_numbers()\n",
        "    num_dict = count_nums(user_numbers)\n",
        "    print_counts(num_dict)\n",
        "\n",
        "\n",
        "\n",
        "if __name__ == '__main__':\n",
        "    main()\n",
        "\n"
      ]
    },
    {
      "cell_type": "code",
      "source": [
        "#01_phonebook\n",
        "\n",
        "def read_phonebook():\n",
        "    phonebook = {}\n",
        "    while True:\n",
        "        name = input(\"Enter a name: \")\n",
        "        if name == \"\":\n",
        "            break\n",
        "\n",
        "        phone_num = input(\"Enter a phone number: \")\n",
        "        phonebook[name] = phone_num\n",
        "\n",
        "        return phonebook\n",
        "\n",
        "def print_phonebook(phonebook):\n",
        "    for name in phonebook:\n",
        "        print(name + \": \" + phonebook[name])\n",
        "\n",
        "def main():\n",
        "    phonebook = read_phonebook()\n",
        "    print_phonebook(phonebook)\n",
        "\n",
        "if __name__ == '__main__':\n",
        "    main()\n"
      ],
      "metadata": {
        "colab": {
          "base_uri": "https://localhost:8080/"
        },
        "id": "u0zCDr1DSpRk",
        "outputId": "3eb34a84-ef63-4249-d9cf-0ae58743940f"
      },
      "execution_count": null,
      "outputs": [
        {
          "output_type": "stream",
          "name": "stdout",
          "text": [
            "Enter a name: maheen\n",
            "Enter a phone number: 123456789\n",
            "maheen: 123456789\n"
          ]
        }
      ]
    },
    {
      "cell_type": "code",
      "source": [
        "#02_pop_up_shop\n",
        "\n",
        "def pop_up_shop():\n",
        "  fruits = {\n",
        "      \"apple\": 1.5,\n",
        "      \"mango\": 3,\n",
        "      \"durian\": 50,\n",
        "      \"jackfruit\": 80,\n",
        "      \"kiwi\": 1,\n",
        "      \"rambutan\": 5\n",
        "  }\n",
        "\n",
        "  total_price = 0\n",
        "  for fruit_name in fruits:\n",
        "    price = fruits[fruit_name]\n",
        "    amount = int(input(\"How many \" + fruit_name + \"s? \"))\n",
        "    total_price += price * amount\n",
        "\n",
        "  print(\"Total price: \" + str(total_price) + \"$\")\n",
        "\n",
        "pop_up_shop()"
      ],
      "metadata": {
        "id": "jMor7VjUURyf",
        "colab": {
          "base_uri": "https://localhost:8080/"
        },
        "outputId": "beae592d-4ab3-45b8-9318-9cf98d2f8a2a"
      },
      "execution_count": null,
      "outputs": [
        {
          "output_type": "stream",
          "name": "stdout",
          "text": [
            "How many apples? 5\n",
            "How many mangos? 5\n",
            "How many durians? 2\n",
            "How many jackfruits? 1\n",
            "How many kiwis? 2\n",
            "How many rambutans? 0\n",
            "Total price: 204.5$\n"
          ]
        }
      ]
    },
    {
      "cell_type": "code",
      "source": [
        "#03_powerful_passwords\n",
        "\n",
        "from hashlib import sha256\n",
        "\n",
        "def login(email, stored_logins, password_to_check):\n",
        "    if stored_logins[email] == sha256(password_to_check.encode()).hexdigest():\n",
        "        return True\n",
        "    else:\n",
        "        return False\n",
        "\n",
        "def hash_password(password):\n",
        "    return sha256(password.encode()).hexdigest()\n",
        "\n",
        "def main():\n",
        "  stored_logins = {\n",
        "      \"example@gmail.com\": \"5e884898da28047151d0e56f8dc6292773603d0d6aabbdd62a11ef721d1542d8\",\n",
        "        \"code_in_placer@cip.org\": \"973607a4ae7b4cf7d96a100b0fb07e8519cc4f70441d41214a9f811577bb06cc\",\n",
        "        \"student@stanford.edu\": \"882c6df720fd99f5eebb1581a1cf975625cea8a160283011c0b9512bb56c95fb\"\n",
        "  }\n",
        "\n",
        "  print(login(\"example@gmail.com\", stored_logins, \"word\"))\n",
        "  print(login(\"example@gmail.com\", stored_logins, \"password\"))\n",
        "\n",
        "  print(login(\"code_in_placer@cip.org\", stored_logins, \"karel\"))\n",
        "  print(login(\"code_in_placer@cip.org\", stored_logins, \"karel\"))\n",
        "\n",
        "  print(login(\"student@stanford.edu\", stored_logins, \"password\"))\n",
        "  print(login(\"student@stanford.edu\", stored_logins, \"123!456?789\"))\n",
        "\n",
        "if __name__ == '__main__':\n",
        "    main()"
      ],
      "metadata": {
        "colab": {
          "base_uri": "https://localhost:8080/"
        },
        "id": "p2ibxgGCZ_cY",
        "outputId": "62efaf8a-db18-46c8-ec39-a074231edaf7"
      },
      "execution_count": null,
      "outputs": [
        {
          "output_type": "stream",
          "name": "stdout",
          "text": [
            "False\n",
            "True\n",
            "True\n",
            "True\n",
            "False\n",
            "True\n"
          ]
        }
      ]
    }
  ]
}