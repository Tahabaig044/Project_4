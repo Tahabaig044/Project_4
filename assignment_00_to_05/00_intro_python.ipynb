{
  "nbformat": 4,
  "nbformat_minor": 0,
  "metadata": {
    "colab": {
      "provenance": [],
      "authorship_tag": "ABX9TyOgeRf5emLvl3Go8TPdhzLS",
      "include_colab_link": true
    },
    "kernelspec": {
      "name": "python3",
      "display_name": "Python 3"
    },
    "language_info": {
      "name": "python"
    }
  },
  "cells": [
    {
      "cell_type": "markdown",
      "metadata": {
        "id": "view-in-github",
        "colab_type": "text"
      },
      "source": [
        "<a href=\"https://colab.research.google.com/github/Tahabaig044/Project_4/blob/main/assignment_00_to_05/00_intro_python.ipynb\" target=\"_parent\"><img src=\"https://colab.research.google.com/assets/colab-badge.svg\" alt=\"Open In Colab\"/></a>"
      ]
    },
    {
      "cell_type": "code",
      "execution_count": null,
      "metadata": {
        "colab": {
          "base_uri": "https://localhost:8080/"
        },
        "id": "8IQNqDW5oQzB",
        "outputId": "afd3d32b-6b2a-480d-a417-7fb0e3515765"
      },
      "outputs": [
        {
          "output_type": "stream",
          "name": "stdout",
          "text": [
            "Enter your first number3\n",
            "Enter your second number2\n",
            "The sum of 3 and 2 is 5\n"
          ]
        }
      ],
      "source": [
        "#01_add_two_numbers\n",
        "\n",
        "def add():\n",
        "  first_Number = int(input(\"Enter your first number\"))\n",
        "  second_Number = int(input(\"Enter your second number\"))\n",
        "  sum = first_Number + second_Number\n",
        "  print(f\"The sum of {first_Number} and {second_Number} is {sum}\")\n",
        "\n",
        "if __name__ == \"__main__\":\n",
        "  add()"
      ]
    },
    {
      "cell_type": "code",
      "source": [
        "#02_agreement_bot\n",
        "\n",
        "def agreement_bot():\n",
        "  user_input = input('what is your favourite animal? ')\n",
        "  print(f'My favourite animal is also {user_input} !')\n",
        "\n",
        "if __name__ == \"__main__\":\n",
        " agreement_bot()"
      ],
      "metadata": {
        "colab": {
          "base_uri": "https://localhost:8080/"
        },
        "id": "xiYSoYtjp1OJ",
        "outputId": "760f52c9-d13d-4ac2-9aa7-bf7584654316"
      },
      "execution_count": null,
      "outputs": [
        {
          "output_type": "stream",
          "name": "stdout",
          "text": [
            "what is your favourite animal? Lion\n",
            "My favourite animal is also Lion !\n"
          ]
        }
      ]
    },
    {
      "cell_type": "code",
      "source": [
        "#03_fahrenheit_to_celsius\n",
        "\n",
        "def fahrenheit_to_celsius():\n",
        "  fahrenheit = float(input(\"Enter temperature in fahrenheit: \"))\n",
        "  celsius = (fahrenheit - 32) * 5.0/9.0\n",
        "  print(f\"Temperature {fahrenheit} F in celsius is: {celsius} C \" )\n",
        "\n",
        "if __name__ == \"__main__\":\n",
        "  fahrenheit_to_celsius()"
      ],
      "metadata": {
        "colab": {
          "base_uri": "https://localhost:8080/"
        },
        "id": "vYnzyUH7spH0",
        "outputId": "b8702ea8-2bcf-4b76-a3f3-2caf31c2cee5"
      },
      "execution_count": null,
      "outputs": [
        {
          "output_type": "stream",
          "name": "stdout",
          "text": [
            "Enter temperature in fahrenheit: 45\n",
            "Temperature 45.0 F in celsius is: 7.222222222222222 C \n"
          ]
        }
      ]
    },
    {
      "cell_type": "code",
      "source": [
        "#04_how_old_are_they\n",
        "\n",
        "def age():\n",
        "  Anton : int = 21\n",
        "  Beth : int = 6 + Anton\n",
        "  Chen : int = 20 + Beth\n",
        "  Drew : int = Chen + Anton\n",
        "  Ethan : int = Chen\n",
        "\n",
        "  print(f\"Anton is {Anton} years old\")\n",
        "  print(f\"Beth is {Beth} years old\")\n",
        "  print(f\"Chen is {Chen} years old\")\n",
        "  print(f\"Drew is {Drew} years old\")\n",
        "  print(f\"Ethan is {Ethan} years old\")\n",
        "\n",
        "if __name__ == \"__main__\":\n",
        "  age()\n"
      ],
      "metadata": {
        "colab": {
          "base_uri": "https://localhost:8080/"
        },
        "id": "dbjnN7gxvWaX",
        "outputId": "506a0279-b660-45ef-ad05-0285519c1d98"
      },
      "execution_count": null,
      "outputs": [
        {
          "output_type": "stream",
          "name": "stdout",
          "text": [
            "Anton is 21 years old\n",
            "Beth is 27 years old\n",
            "Chen is 47 years old\n",
            "Drew is 68 years old\n",
            "Ethan is 47 years old\n"
          ]
        }
      ]
    },
    {
      "cell_type": "code",
      "source": [
        "#05_triangle_perimeter\n",
        "\n",
        "def perimeter_of_triangle():\n",
        "  side1 = float(input(\"Enter the length of the first side: \"))\n",
        "  side2 = float(input(\"Enter the length of the second side: \"))\n",
        "  side3 = float(input(\"Enter the length of the third side: \"))\n",
        "\n",
        "  print(f\"The perimeter of the triangle is {side1 + side2 + side3}\")\n",
        "\n",
        "if __name__ == \"__main__\":\n",
        "  perimeter_of_triangle()"
      ],
      "metadata": {
        "colab": {
          "base_uri": "https://localhost:8080/"
        },
        "id": "bOkh5_9OznbB",
        "outputId": "e3c3d648-3c3d-4428-e7a2-b6ff9d43a463"
      },
      "execution_count": null,
      "outputs": [
        {
          "output_type": "stream",
          "name": "stdout",
          "text": [
            "Enter the length of the first side: 3\n",
            "Enter the length of the second side: 4\n",
            "Enter the length of the third side: 5.5\n",
            "The perimeter of the triangle is 12.5\n"
          ]
        }
      ]
    },
    {
      "cell_type": "code",
      "source": [
        "#06_square_number\n",
        "\n",
        "def square_of_numbers():\n",
        "  number : float = float(input(\"Enter a number \"))\n",
        "  print(str(number) + \" squared is \" + str(number * number))\n",
        "\n",
        "if __name__ == \"__main__\":\n",
        "  square_of_numbers()"
      ],
      "metadata": {
        "colab": {
          "base_uri": "https://localhost:8080/"
        },
        "id": "xtE6Bnqt1cgg",
        "outputId": "09d1486a-2254-4e15-e733-969b34cc1a95"
      },
      "execution_count": null,
      "outputs": [
        {
          "output_type": "stream",
          "name": "stdout",
          "text": [
            "Enter a number 4\n",
            "4.0 squared is 16.0\n"
          ]
        }
      ]
    }
  ]
}