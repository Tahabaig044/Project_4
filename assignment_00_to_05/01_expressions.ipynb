{
  "nbformat": 4,
  "nbformat_minor": 0,
  "metadata": {
    "colab": {
      "provenance": [],
      "include_colab_link": true
    },
    "kernelspec": {
      "name": "python3",
      "display_name": "Python 3"
    },
    "language_info": {
      "name": "python"
    }
  },
  "cells": [
    {
      "cell_type": "markdown",
      "metadata": {
        "id": "view-in-github",
        "colab_type": "text"
      },
      "source": [
        "<a href=\"https://colab.research.google.com/github/Tahabaig044/Project_4/blob/main/assignment_00_to_05/01_expressions.ipynb\" target=\"_parent\"><img src=\"https://colab.research.google.com/assets/colab-badge.svg\" alt=\"Open In Colab\"/></a>"
      ]
    },
    {
      "cell_type": "code",
      "execution_count": null,
      "metadata": {
        "colab": {
          "base_uri": "https://localhost:8080/"
        },
        "id": "-T-DV61Eyytd",
        "outputId": "99114e52-641b-4c0a-acc1-13aacc23eef0"
      },
      "outputs": [
        {
          "output_type": "stream",
          "name": "stdout",
          "text": [
            "die1 in main() starts as: 10\n",
            "The total is 12\n",
            "The total is 7\n",
            "The total is 9\n",
            "die1 in main() is: 10\n"
          ]
        }
      ],
      "source": [
        "#01_dicesimulator\n",
        "\n",
        "import random\n",
        "\n",
        "number_of_sides = 6\n",
        "\n",
        "def roll_dice(number_of_sides):\n",
        "    die1: int = random.randint(1, number_of_sides)\n",
        "    die2: int = random.randint(1, number_of_sides)\n",
        "    total = die1 + die2\n",
        "    print(f\"The total is {total}\")\n",
        "\n",
        "def main():\n",
        "    die1: int = 10\n",
        "    print(f\"die1 in main() starts as: {die1}\")  # Keeping it similar to the original\n",
        "    roll_dice(number_of_sides)\n",
        "    roll_dice(number_of_sides)\n",
        "    roll_dice(number_of_sides)\n",
        "    print(f\"die1 in main() is: {die1}\")  # Uncommented and fixed\n",
        "\n",
        "if __name__ == \"__main__\":\n",
        "    main()"
      ]
    },
    {
      "cell_type": "code",
      "source": [
        "#02_e=mc2\n",
        "\n",
        "C : int =  299792458\n",
        "\n",
        "def main():\n",
        "  mass_in_kg : float = float(input(\"Enter kilos of mass: \"))\n",
        "  energy_in_joules: float = mass_in_kg*(C**2)\n",
        "\n",
        "  print(\"e = m * C^2...\")\n",
        "  print(\"m = \" + str(mass_in_kg) + \" kg\")\n",
        "  print(\"C = \" + str(C) + \" m/s\")\n",
        "\n",
        "  print(str(energy_in_joules) + \" joules of energy!\")\n",
        "\n",
        "if __name__ == \"__main__\":\n",
        "    main()"
      ],
      "metadata": {
        "colab": {
          "base_uri": "https://localhost:8080/"
        },
        "id": "Wyjby1t_8R1W",
        "outputId": "55861bb4-2e84-4f97-a0d0-bb8a7149cd25"
      },
      "execution_count": null,
      "outputs": [
        {
          "output_type": "stream",
          "name": "stdout",
          "text": [
            "Enter kilos of mass: 100\n",
            "e = m * C^2...\n",
            "m = 100.0 kg\n",
            "C = 299792458 m/s\n",
            "8.987551787368176e+18 joules of energy!\n"
          ]
        }
      ]
    },
    {
      "cell_type": "code",
      "source": [
        "#03_feet_to_inches\n",
        "\n",
        "Inches_In_Foot: int = 12\n",
        "def measurment():\n",
        "  feets : float = float(input(\"Enter number of feet: \"))\n",
        "  inches : float = feets * Inches_In_Foot\n",
        "  print(f\"{feets} feet is {inches} inches\")\n",
        "\n",
        "if __name__ == \"__main__\":\n",
        "  measurment()"
      ],
      "metadata": {
        "colab": {
          "base_uri": "https://localhost:8080/"
        },
        "id": "m2oMZDXnBhfv",
        "outputId": "84cd2a17-8a4f-42af-d3c7-802a24b4ad36"
      },
      "execution_count": null,
      "outputs": [
        {
          "output_type": "stream",
          "name": "stdout",
          "text": [
            "Enter number of feet: 20\n",
            "20.0 feet is 240.0 inches\n"
          ]
        }
      ]
    },
    {
      "cell_type": "code",
      "source": [
        "#04_pythagorean_theorem\n",
        "import math\n",
        "\n",
        "def pythagorean_theorem():\n",
        "  AB : float = float(input(\"Enter length of side AB: \"))\n",
        "  AC : float = float(input(\"Enter length of side BC: \"))\n",
        "  BC: float = math.sqrt((AB**2) + (AC**2))\n",
        "  print(f\"The length of side BC is {BC}\")\n",
        "\n",
        "if __name__ == \"__main__\":\n",
        "  pythagorean_theorem()\n",
        "\n",
        "\n"
      ],
      "metadata": {
        "colab": {
          "base_uri": "https://localhost:8080/"
        },
        "id": "MOv97I29Dxxh",
        "outputId": "1bb3ad99-a075-45a9-c0ad-c1cf87de8afc"
      },
      "execution_count": null,
      "outputs": [
        {
          "output_type": "stream",
          "name": "stdout",
          "text": [
            "Enter length of side AB: 3\n",
            "Enter length of side BC: 4\n",
            "The length of side BC is 5.0\n"
          ]
        }
      ]
    },
    {
      "cell_type": "code",
      "source": [
        "#05_remainder_division\n",
        "\n",
        "def remainder_division():\n",
        "  number_1 : int = int(input(\"Enter first number: \"))\n",
        "  number_2 : int = int(input(\"Enter second number: \"))\n",
        "  remainder : int = number_1 % number_2\n",
        "  quotient : int = number_1 // number_2\n",
        "  print(f\"The remainder of {number_1} divided by {number_2} is {remainder}\")\n",
        "\n",
        "if __name__ == \"__main__\":\n",
        "  remainder_division()"
      ],
      "metadata": {
        "colab": {
          "base_uri": "https://localhost:8080/"
        },
        "id": "zI8usiweL3Gv",
        "outputId": "b613214b-f8a0-4617-dfbc-78f483de8338"
      },
      "execution_count": null,
      "outputs": [
        {
          "output_type": "stream",
          "name": "stdout",
          "text": [
            "Enter first number: 3\n",
            "Enter second number: 2\n",
            "The remainder of 3 divided by 2 is 1\n"
          ]
        }
      ]
    },
    {
      "cell_type": "code",
      "source": [
        "#06_rolldice\n",
        "import random\n",
        "\n",
        "sides_of_dices: int = 6\n",
        "def roll_dice():\n",
        "  die1 : int = random.randint(1, 6)\n",
        "  die2 : int = random.randint(1, 6)\n",
        "  total : int = die1 + die2\n",
        "  print(f\"The total is {total}\")\n",
        "  print(f\"The first die is {die1}\")\n",
        "  print(f\"The second die is {die2}\")\n",
        "\n",
        "if __name__ == \"__main__\":\n",
        "  roll_dice()\n",
        "\n"
      ],
      "metadata": {
        "colab": {
          "base_uri": "https://localhost:8080/"
        },
        "id": "ig7qm_T9NGek",
        "outputId": "72965704-fff7-4469-bca6-30541f373c66"
      },
      "execution_count": null,
      "outputs": [
        {
          "output_type": "stream",
          "name": "stdout",
          "text": [
            "The total is 8\n",
            "The first die is 3\n",
            "The second die is 5\n"
          ]
        }
      ]
    },
    {
      "cell_type": "code",
      "source": [
        "#07_seconds_in_year\n",
        "\n",
        "def seconds_in_year():\n",
        "  seconds_in_minute: int = 60\n",
        "  minutes_in_hour: int = 60\n",
        "  hours_in_day: int = 24\n",
        "  days_in_year: int = 365\n",
        "  seconds_in_year: int = (seconds_in_minute * minutes_in_hour * hours_in_day * days_in_year)\n",
        "  print(f\"There are {seconds_in_year} seconds in a year\")\n",
        "\n",
        "if __name__ == \"__main__\":\n",
        "  seconds_in_year()\n"
      ],
      "metadata": {
        "colab": {
          "base_uri": "https://localhost:8080/"
        },
        "id": "4_huymc1RWid",
        "outputId": "1f7dfaed-d88c-4aea-b0de-704d9ddc15c8"
      },
      "execution_count": null,
      "outputs": [
        {
          "output_type": "stream",
          "name": "stdout",
          "text": [
            "There are 31536000 seconds in a year\n"
          ]
        }
      ]
    },
    {
      "cell_type": "code",
      "source": [
        "#08_tiny_mad_lib\n",
        "def tiny_mad_lib():\n",
        "    adjective = input(\"Enter an adjective: \")\n",
        "    noun = input(\"Enter a noun: \")\n",
        "    verb = input(\"Enter a verb: \")\n",
        "\n",
        "    sentence = f\"The {adjective} {noun} loves to {verb} in the morning.\"\n",
        "    print(sentence)\n",
        "\n",
        "if __name__ == \"__main__\":\n",
        "    tiny_mad_lib()\n",
        "\n"
      ],
      "metadata": {
        "colab": {
          "base_uri": "https://localhost:8080/"
        },
        "collapsed": true,
        "id": "tC_K9gsLTOPD",
        "outputId": "0343bea1-8c9e-4208-e263-8075f944ee42"
      },
      "execution_count": null,
      "outputs": [
        {
          "output_type": "stream",
          "name": "stdout",
          "text": [
            "Enter an adjective: little\n",
            "Enter a noun: cat\n",
            "Enter a verb: fly\n",
            "The little cat loves to fly in the morning.\n"
          ]
        }
      ]
    }
  ]
}